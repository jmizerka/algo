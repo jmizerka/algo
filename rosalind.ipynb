{
  "nbformat": 4,
  "nbformat_minor": 0,
  "metadata": {
    "colab": {
      "provenance": [],
      "collapsed_sections": [
        "cHg4MdrA5lpO",
        "4O2zXMB26JQ-",
        "t-Cpiqhw6zWb",
        "yV1yB0jL8-U1",
        "uy2O3kJoLf8G",
        "MyaI9WuAFi6E"
      ]
    },
    "kernelspec": {
      "name": "python3",
      "display_name": "Python 3"
    },
    "language_info": {
      "name": "python"
    }
  },
  "cells": [
    {
      "cell_type": "markdown",
      "source": [
        "# ROSALIND EXERCISES\n",
        "## ROSALIND IS A PLATFORM FOR LEARNING BIOINFORMATICS THROUGH PROBLEM SOLVING "
      ],
      "metadata": {
        "id": "fhT9I_HR37C2"
      }
    },
    {
      "cell_type": "code",
      "source": [
        "import numpy as np"
      ],
      "metadata": {
        "id": "WIjG4CjOuNc3"
      },
      "execution_count": null,
      "outputs": []
    },
    {
      "cell_type": "markdown",
      "source": [
        "### 1. Give a DNA string count number of times 'A','C','G' and 'T' occur "
      ],
      "metadata": {
        "id": "n-MOkxzb4vdF"
      }
    },
    {
      "cell_type": "code",
      "source": [
        "class DNA_string: \n",
        "\n",
        "    def __init__(self,string): \n",
        "        self.string = np.array([list(string)],dtype = 'U1') \n",
        "        self.length =self.string.shape[1] \n",
        "    \n",
        "    def count_nucleotides(self):\n",
        "        #self.count = np.unique(self.string, return_counts = True)\n",
        "        self.A_count = np.sum(np.char.count(self.string,'A'))\n",
        "        self.C_count = np.sum(np.char.count(self.string,'C'))\n",
        "        self.G_count = np.sum(np.char.count(self.string,'G'))\n",
        "        self.T_count = np.sum(np.char.count(self.string,'T'))\n",
        "        return self.A_count,self.C_count,self.G_count,self.T_count\n",
        "    \n",
        "    def compute_gc_content(self):\n",
        "        try:\n",
        "            return sum([self.G_count,self.C_count])/sum([self.G_count,self.C_count,self.A_count,self.T_count]) *100\n",
        "        except:\n",
        "            self.count_nucleotides()\n",
        "            return sum([self.G_count,self.C_count])/sum([self.G_count,self.C_count,self.A_count,self.T_count]) *100\n",
        "    \n",
        "    def transcribe(self): \n",
        "        return np.char.replace(self.string,'T','U')\n",
        "    \n",
        "    def find_complement(self):\n",
        "        to_replace = {'T':'A','A':'T','C':'G','G':'C'}\n",
        "        reversed_string = np.flip(self.string)\n",
        "        s = np.array([],dtype='U1')\n",
        "        for i in reversed_string[0]:\n",
        "            s = np.append(s,to_replace[i])\n",
        "        s = DNA_string(s)\n",
        "        return s\n",
        "    \n",
        "    def compute_hamming_dist(self,other_string):\n",
        "        return self.string == other_string\n",
        "    \n",
        "    def sub_s_location(self,substring):\n",
        "        self.locs = np.array([])\n",
        "        substring = np.array([list(substring)])\n",
        "        \n",
        "        len_sub = substring.shape[1]\n",
        "        for i in range(self.length-len_sub):\n",
        "            if (self.string[0,i:i+len_sub] == substring).all() == True:\n",
        "                self.locs = np.append(self.locs,int(i+1))\n",
        "        return self.locs"
      ],
      "metadata": {
        "id": "NSEdEs33G9ci"
      },
      "execution_count": null,
      "outputs": []
    },
    {
      "cell_type": "code",
      "source": [
        "class RNA_string(DNA_string):\n",
        "    def __init__(self,string):\n",
        "        self.string = string\n",
        "        self.length = self.string.shape[1]\n",
        "    def count_nucleotides(self):\n",
        "        self.A_count, self.C_count, self.G_count, _ = super().count_nucleotides()\n",
        "        self.U_count = np.sum(np.char.count(self.string,'U'))\n",
        "        return self.A_count,self.C_count,self.G_count,self.U_count"
      ],
      "metadata": {
        "id": "GYH-66WLG4zo"
      },
      "execution_count": null,
      "outputs": []
    },
    {
      "cell_type": "code",
      "source": [
        "class Dataset():\n",
        "    def __init__(self,path,lines = True):\n",
        "        self.lines = lines\n",
        "        self.data_file = open(path,'r')\n",
        "        if lines == True:\n",
        "            self.data = self.data_file.readlines()\n",
        "        else:\n",
        "            self.data = self.data_file.readlines()\n",
        "    def process_FASTA(self):\n",
        "        if self.lines == True:\n",
        "            try:\n",
        "                strings = []\n",
        "                temp_string = ''\n",
        "                ids = []\n",
        "                for i,line in enumerate(self.data):\n",
        "                    line = line.rstrip('\\n')\n",
        "                    if line.isalpha() == True:\n",
        "                        temp_string += line\n",
        "                    else:\n",
        "                        line = line.lstrip('>')\n",
        "                        ids.append(line)\n",
        "                        if temp_string != '':\n",
        "                            strings.append(temp_string)\n",
        "                            temp_string = ''\n",
        "            return strings, ids\n",
        "            except:\n",
        "                print('Wrong file format')\n",
        "        else:\n",
        "            print('You should read file as lines to preprocess it')\n",
        "        self.data_file.close()\n",
        "        \n",
        "\n"
      ],
      "metadata": {
        "id": "oowF8ihYIxiK"
      },
      "execution_count": null,
      "outputs": []
    },
    {
      "cell_type": "code",
      "source": [
        "def read_data(path, lines = True):\n",
        "    if lines = True:\n",
        "        data = open('rosalind_dna(2).txt','r').readlines()\n",
        "    else:\n",
        "        data = open('rosalind_dna(2).txt','r').read()\n",
        "    return lines\n",
        "\n",
        "strings = []\n",
        "temp_string = ''\n",
        "for i, line in enumerate(data):\n",
        "        line = line.rstrip('\\n')\n",
        "        if line.isalpha() == True:\n",
        "            temp_string += line\n",
        "        else:\n",
        "            if temp_string != '':\n",
        "                strings.append(temp_string)\n",
        "                temp_string = ''"
      ],
      "metadata": {
        "id": "XiaQLXiOwxbW"
      },
      "execution_count": null,
      "outputs": []
    },
    {
      "cell_type": "code",
      "source": [
        "s = 'AGCTTTTCATTCTGACTGCAACGGGCAATATGTCTCTGTGTGGATTAAAAAAAGAGTGTCTGATAGCAGC'\n",
        "z = 'GATCCCCCATTCTGACTGCAACGGGCAATATGTCTCTGTGTGGATTAAAAAAAGAGTGTCTGATAGCAGC'"
      ],
      "metadata": {
        "id": "4AjM4IJstHiW"
      },
      "execution_count": null,
      "outputs": []
    },
    {
      "cell_type": "code",
      "source": [
        "dna1 = DNA_string(z)"
      ],
      "metadata": {
        "id": "DyjWGW99Gvld"
      },
      "execution_count": null,
      "outputs": []
    },
    {
      "cell_type": "code",
      "source": [
        "np.sum(dna.compute_hamming_dist(dna1.string))"
      ],
      "metadata": {
        "colab": {
          "base_uri": "https://localhost:8080/"
        },
        "id": "I5dqf-ZHIE_Q",
        "outputId": "ac14daf8-2ed1-44c4-9c4d-4ed2e6208718"
      },
      "execution_count": null,
      "outputs": [
        {
          "output_type": "execute_result",
          "data": {
            "text/plain": [
              "63"
            ]
          },
          "metadata": {},
          "execution_count": 183
        }
      ]
    },
    {
      "cell_type": "code",
      "source": [
        "dna = DNA_string(s)"
      ],
      "metadata": {
        "id": "p6AZiRPm91UZ"
      },
      "execution_count": null,
      "outputs": []
    },
    {
      "cell_type": "code",
      "source": [
        "dna.count_nucleotides()"
      ],
      "metadata": {
        "colab": {
          "base_uri": "https://localhost:8080/"
        },
        "id": "FNBu3f8a-OL4",
        "outputId": "77c3f7a7-bfe9-4431-9e7d-90d909ea1be5"
      },
      "execution_count": null,
      "outputs": [
        {
          "output_type": "execute_result",
          "data": {
            "text/plain": [
              "(20, 12, 17, 21)"
            ]
          },
          "metadata": {},
          "execution_count": 164
        }
      ]
    },
    {
      "cell_type": "code",
      "source": [
        "a = dna.compute_gc_content()"
      ],
      "metadata": {
        "id": "O4RwtLmu-uGl"
      },
      "execution_count": null,
      "outputs": []
    },
    {
      "cell_type": "code",
      "source": [
        "dna.sub_s_location('GTC')"
      ],
      "metadata": {
        "colab": {
          "base_uri": "https://localhost:8080/"
        },
        "id": "1ncSZQCFA6q_",
        "outputId": "fdac35b9-312b-411b-a4d7-c48e007f3a53"
      },
      "execution_count": null,
      "outputs": [
        {
          "output_type": "execute_result",
          "data": {
            "text/plain": [
              "array([32., 58.])"
            ]
          },
          "metadata": {},
          "execution_count": 204
        }
      ]
    },
    {
      "cell_type": "markdown",
      "source": [
        "### 2. Given a DNA string return the transcirbed RNA"
      ],
      "metadata": {
        "id": "Cof6aY-c35d0"
      }
    },
    {
      "cell_type": "markdown",
      "source": [
        "### 3. Given a DNA string find the reverse complement"
      ],
      "metadata": {
        "id": "G31okFtZ4h2b"
      }
    },
    {
      "cell_type": "markdown",
      "source": [
        "### 4. Immortal rabbits: return the total number of rabbit pairs that will be present after n months, if we begin with 1 pair and in each generation, every pair of reproduction-age rabbits produces a litter of k rabbits pairs (instead of only 1 pair) "
      ],
      "metadata": {
        "id": "cHg4MdrA5lpO"
      }
    },
    {
      "cell_type": "code",
      "source": [
        "def fib_series(n,k):\n",
        "    fb_series = []\n",
        "    for i in range(n):\n",
        "        if i > 1:\n",
        "            fb_series.append(fb_series[i-2]*k+fb_series[i-1])\n",
        "        else:\n",
        "            fb_series.append(1)\n",
        "    return fb_series\n",
        "series = fib_series(34,4)"
      ],
      "metadata": {
        "id": "ZmI-3_bVKRJQ"
      },
      "execution_count": null,
      "outputs": []
    },
    {
      "cell_type": "markdown",
      "source": [
        "\n",
        "\n",
        "```\n",
        "# This is formatted as code\n",
        "```\n",
        "\n",
        "### 5. Given at most 10 DNA strings in FASTA format return the ID of the string having the highest GC-content and GC-content of that string"
      ],
      "metadata": {
        "id": "4O2zXMB26JQ-"
      }
    },
    {
      "cell_type": "markdown",
      "source": [
        "### 6. Compute the Hamming distance of two DNA strings "
      ],
      "metadata": {
        "id": "t-Cpiqhw6zWb"
      }
    },
    {
      "cell_type": "markdown",
      "source": [
        "### 7. Given 3 positive integers: k,m and n, representing a population containing k+m+n organisms: k individuals are homozygous dominant for a factor, m are heterozygous, and n are homozygous recessive. Return: The probability that two randomly selected mating organisms will produce an individual possessing a dominant allele (and thus displaying the dominant phenotype). Assume that any two organisms can mate."
      ],
      "metadata": {
        "id": "yV1yB0jL8-U1"
      }
    },
    {
      "cell_type": "code",
      "source": [
        "def calc_prob(k,m,n):\n",
        "    total = k+m+n\n",
        "\n",
        "    return k/total + m/total * (m-1)/(total-1) * 3/4 + m/total *n/(total-1) * 1/2 + m/total * k/(total-1) + n/total * (k/(total-1)+m/(total-1)*1/2)\n",
        "\n",
        "prob = calc_prob(25,15,23)"
      ],
      "metadata": {
        "id": "lwQB44adIbtw"
      },
      "execution_count": null,
      "outputs": []
    },
    {
      "cell_type": "code",
      "source": [
        "prob"
      ],
      "metadata": {
        "colab": {
          "base_uri": "https://localhost:8080/"
        },
        "id": "708ytiL4J1XM",
        "outputId": "46a65e1d-271d-4dbb-a625-359115a7ca7a"
      },
      "execution_count": null,
      "outputs": [
        {
          "output_type": "execute_result",
          "data": {
            "text/plain": [
              "0.7686891961085509"
            ]
          },
          "metadata": {},
          "execution_count": 5
        }
      ]
    },
    {
      "cell_type": "markdown",
      "source": [
        "### 8. Given an RNA string s corresponding to a strand of mRNA return the protein string encoded by s"
      ],
      "metadata": {
        "id": "uy2O3kJoLf8G"
      }
    },
    {
      "cell_type": "code",
      "source": [
        "A R N D C Q E G H I L K M F P S T W Y V"
      ],
      "metadata": {
        "id": "d262c8FWLsz3"
      },
      "execution_count": null,
      "outputs": []
    },
    {
      "cell_type": "code",
      "source": [
        "dict_keys = ['F', 'L', 'S', 'Y', 'Stop', 'I', 'V', 'M', 'P', 'T', 'A', 'H', 'N', 'D', 'Q', 'K', 'E', 'C', 'R', 'G', 'W']"
      ],
      "metadata": {
        "id": "U0CUFJ-3MLcS"
      },
      "execution_count": null,
      "outputs": []
    },
    {
      "cell_type": "code",
      "source": [
        "amino_acids = {'F':['UUU','UUC'],'L':['UUA','UUG','CUU', 'CUC','CUA','CUG'],'S':['UCU','UCC','UCA','UCG','AGU','AGC'],'Y':['UAU','UAC'],'Stop':['UAA','UAG','UGA'],'I':['AUU','AUC','AUA']\n",
        "               ,'V':['GUU','GUC','GUA','GUG'],'M':['AUG'],'P':['CCU','CCC','CCA','CCG'],'T':['ACU','ACC','ACA','ACG'],'A':['GCU','GCC','GCA','GCG'],\n",
        "               'H':['CAU','CAC'],'N':['AAU','AAC'],'D':['GAU','GAC'],'Q':['CAA','CAG'],'K':['AAA','AAG'],'E':['GAA','GAG'],'C':['UGU','UGC'],'R':['CGU','CGC','CGA','AGA', 'AGG','CGG'],\n",
        "               'G':['GGU','GGC','GGA','GGG'],'W':['UGG']}"
      ],
      "metadata": {
        "id": "iqHIvzQcNFI5"
      },
      "execution_count": null,
      "outputs": []
    },
    {
      "cell_type": "code",
      "source": [
        "def translate_codon(c,amino_acids,dict_keys):\n",
        "    protein = ''\n",
        "    for i in range(int(len(c)/3)):\n",
        "        for j in range(len(amino_acids)):\n",
        "            if c[i*3:(i+1)*3] in amino_acids[dict_keys[j]]:\n",
        "                if c[i*3:(i+1)*3] in amino_acids['Stop']:\n",
        "                    return protein\n",
        "                else:\n",
        "                    protein+=dict_keys[j]\n",
        "             "
      ],
      "metadata": {
        "id": "57y6fcEnMwJ-"
      },
      "execution_count": null,
      "outputs": []
    },
    {
      "cell_type": "code",
      "source": [
        "c = 'AUGUGCUACGUCCAUCCCCCCGGUGGCGCCUAUGCAACUCGUACCGCCUGGAAUCAACGAGGGAAUCUGAACAAACAGCGCCCAUCGUGGUCAAUUUUGAGCGAUGAUACCCUCCUAGAAAUUAGCAUGCAGCCAAUCUCCUCGCGAAUAAUAACGAAAUCAAAGUUACCUCAUUGUUACUGCGCGUCUUUCUCGUUAGGCUUUCGUCACUCUCUGAGUGGUCGUGCGAACUCACCUAGCAUAAGCAUUAUGUACCGGCCGAGAAACAAUUGGCGCUUACACAUCAAAGUCUAUAUAGAGGAUUCGGAACGGAGAGUAGCAUGUCGAAGUACUGCCCUCAACGUACUUAUUUUGCCGGCUUACCGCUCAGGCCGCCACAUAGAGAGAUGUUCGCGUCACCAAUCAUAUCCUGAAUUCCGGAAGCUAGCUGGAGAUAUACUGGCCAUAGGAUGCAAGCUUCACUGUACGCUUGAACAUCCAUUUUACGUAUCAGUCAAGUCUCCAACCAGGAUAGAUAGACUAAAAGAGGGUUUACAAGUAUCCCCGAGAAAGUGCAGCAACUACCAUGGUUUGUGUGAUAGUGCGCUACCGGAGAUUAUGUUGGGGUCACAAGACGUCAUCAUUAGUUGGAGUGUCACAGCGUCAUAUGUUGGUGUUCACACUAAUAGUCCCCGGAAUUCACCUCGUUCAAGGUUCCGGUUGUUAUCUGCUCCUAGAGCGCAAAACUUGCGCAAAGAGGCCCGGCUGGGGCGCCGACGGUACGAUACCUACGUACAAUUAGGGCGACGUAUCCGUGAUGGUGGUAGUUUAUUUCGAGGGGACCUAUCACUCCUGCUAGAUUUUUUCAGUAUGGCGCGCCUUGUAGACAUCCUAAUUAAACGUAUACGCAGCGCGAUUUGCAGCAGGCGUUCAUGGGAAGAUUUCAGAUCCGUUAUUUCCCAUUUAGAUGUGCGGUUUCUUUACCGCUGGAACGCAUUUGCUUUAGUCUACUUAAUUGGGAUAAACGACGCUGCAUUCCGUGGGUUCUUAGUCAUAUUGCAAACCUUCGAGGGAAGAAUGGUGCAGGUUCAGGGCCUUCCUGACGCUGUAAGCUCCUUUUCAUCUGUUAUUCACUAUUUAACAGCGUACGUUACGCGAGGCACCAUCGCCCUAGCAAUCCAGUUUGCAAAUCUACGCUGUUCGGACCCCCUUCGCCUCAAACAUAAAUUACUCGGUAGGUAUCUCAUGUCGAGCUGGGAACAGGGAGCUGUGCUCGCAUGCUUAUACCCUCAAGCGUCCGUUGAAAUCUUCAGUAAAGAGAGCACCAUUAGAACUCGGGUCCAUGGCAGCGCACUAGCCUGGUAUUGGAUUAUCAUGGUGGUAAAAGGGCUCGGAUGUCUCCUUUGUUGGCGAAACGCCCUGAGAAUAUUGCCCUUGUCGUCUUCACCCGUAAACGAGCGCUUGAAACGGUCUCCGCCGUCACACGAACCAUUGUUCCGUGCCUCUUCAGCUUACGCACGGAGAAUGAGAGUCGUAAGUACCCCCCGAACUAUUGGACGACUCAGGCUAUGCCCUCAUGCGGUUUACGUAAUGUGCCCCGGGGGGACAGUCGCGUCGCUGUGUUCCGUCUUAGGAACCUUACCGCUGCGCCUGCCGGACGAUCUCUGCGAUCCGACACCGCCUCGCGACGCUAUCGCACCAGAUCUAGAAAGAAAUUUGUCUCUCCCAGUACUUCUAAAUGCCCGCUCAUUGAGAAGCGGAUCGGGUUCCGGCUUGACUCAAGUUAGUUAUGUUUUCUGUAAGUCGGGCGCCCAAUCUGCGGAGAGCUUCUCCGGAAACACUGCCGGCCCCUACGGCAGAGUAUUCCUUAAGAACGUACAGAAGGUCUGCUCACUGUUUCUGGGGGGCUCCAGAGCUAACCGAAGGAGGCUCCCUGUCAGAGGCGGUACCCAGCACGAAACACCCCGGUGUCACGUCGCGAAGCCAUUGACGAUUCAAAAUUGGGCGGGCAUGGUUCCACUGCCGCCACUCAGGCCUUUUACAAAAAGAACAACGCCGCAGGAGGACAUUGGGAUACUUCCAUGUAAUCCCGGAUCGCAGCGCACUCGUGUUGAACACAUAUGCGUGGUUCUAGCAAGCCCACAAAGGAUGAUGAAUUUAGCUCCGCCUUUACUAAGGAUAUUAUUCAGUGCAAACCCAUCUGCCAUUAUUAACCUGGUCCUCACUUUGCUAGAAUUCAUCAUAACAGGCCAUGGAGUUCCUAUCGGAGGCGGCCAUAGUCACUCGCGAGACCAGGUAGCCCUUGUAAUGGGUACCACUGGCACGAGUUUGGCAUCUCGUAACGACAGCCAGAGCUACCCCAAAAUCUCCCUAUCGCUUUUGCCAUCCUUCCCAAGCCCGCCAAGCGUCCCGAAAGCGAGGCGGGAGCGAUGGCACCGCUUUGGUUUAGGGAUGACAAAUUUUCUUCAAGUCAUCCGAAAGGAGGUUAAGAUAAGUUCAGCCAGAACUAGUGGGUUGUUUGAUGCUCUGGGCAGGGUGCGUGGACCCGGCAAAUGCUCGCGUCGAACUUCAUCUCGCGGCACGUCGUGCAUCAGUACGUUAGCGGAAGACUUGUUGAGUUUCAGAAGAGGAAAGUCGUAUCGGCUCAUCCGAGUGUCGCCCACACACAAUGGCCCCCGAGAUAAACGUCACGUCCGCUUGUUUUCGGAGGGCGUCUCGAAGGGGGCCGCGCGACGACUCGUCCACAGGGGUUCCAGAAUUAAAGCUCUUAAAUACUCACGGGAGACGAGCAAGAAGAAGGAAAAUUCUGGCGUGCCUAGUAGGUUACCGAGUCUUGUAGUAGAUCCGAACGUCAUUAUUAAUUUUUGCGGGAGCAGGUGGUCGCUGUCUCAUCACCGGUAUGGUUGUGUUGGUCGUUCUGUCCAGACCGACAGUCGUAUUCUAGUUAGCGGCCCAUAUUGCGUUGCAUGGUUGAUACACACAUCCCAAGACCCUCACCGUAUGGCAAUAGGGUGUACAGUUCGACGCACUGCGCAAGAAAGGGGACUCAUCAAAUGGGGGCAUCAUAGCAGCAUCGCUCAUGCCUCCGACUGUUAUAGCAUAGAGUCGGCAUCAGGGAUCAAUAUAGUCCUGAGUAGUAUCCAUGGCCAGGAACCCCUUAGCGCACCUGCCUUAUUGUUUCCUUUGUCCCCGGCAGUGAACCACCCAACCAUCCCAGAGUUACUAGUCCGAUGUAGGGAGUCCCCUCGGUUUGCUUCUAUGCGUCUCCGAAGGGAUUUCAUAGCGUUGCGCUGGCGCCCGGCUCACCAUGCGCGUUUAAAUACCCAGGGUCAUGCUGUUUCCAGGAUGGCCCGUAGUGCGCUAGAACUCACGCAAGCCGGCCCUAUGGUUGCAAUUGUCAUCGCAGAACGAAUUCUUGAGUGUCAACUACAUGGGGUAUUUCGACAGAGCCGGCCUGCGCGCCAGCGAUCGGGCCAUGUCGGGCGCGAACAAAGCAGAGUGACGACUUUAUCAGCCUCCUACAGUCUUCGCUUGGGGCGUAGGUGCGUACUAAAGGUUUCUAUCGCGAUUCUCUCCCGCCGAGCUGUCGUGCAAGGCUCAGUGGAUGUUGCGUUUAAUUGCCCUCGACUAUAUCUAAUGAAGGGUCGAAUAAGAUUUACGCCUCCCUCGGUGUUCUCGCCCAAUUUAAAUGUAGACAUAUUGAGUAAAUACAGGAAUGCAUUGGACCUGAUUCCCGUCGCAGAAGGCGUGACUUUCAGGAUACUCGGAGAGUUUGUCCUUGCGUCGAACGACGGGGCGUGCGGGUAUCCCCGACAGCCUCGUGUAAAAAGGAUCUGUAGCUUCCAGACUCCAUUCACUCUCGGGAUGCACUUUCGCGAAGGCAGUCCAGUAGGCUGCCCCAUCGCAACCAUGCUGUGUAGCACGGGUGCUAAUCCGGUCAUUAGCGCAGCGUGGGAUUCAAUCGCUGGAGCACCAAACUUCCGAUCCGCAGUAGUCCAAUGCUUCACUCGCGCAACGGACGCGAGAAAAGAGCUAGACAACGAAGCACUGGCCUUUGGCGAAACCUCUCGUAAAACGAAUAGUGAAUACAGUUUUCUAGGGUAUUGGGUCUUCAGAGGUGAAGACUGUCGGGUUGCAGAUCCAAUUACAGUAACCUGGUACGCGUGGCAUGCGUUAGGACUGACCAAGGUUCGGAUGCAAGUUAUUCAUACUUAUUGCCGCGCUAUCCAUUACGGACCGUCAGAUGUAGUCCACGUCAGUCUCUAUCCUCGGCUUCCGGUUAACUGCAUGGCCCUUGAGAGACUAAUAGGGCUUUAUCCUAGAUCUAUGGAAACGGUUAGCGUCGGUAAUAGCUACCAGAGGUAUAUCAUAUUAACAUCAUGGCAGGUUGCUGCACCCUUACAGUGGGUUCUAAACCUGUCCCGCACGCGUCAAUCAGAGCUACAGAACGUACAGUUUAUUUUUGGCGCACCUUUGUCUGUCGAUGCGCGCUACGGUCGUGACUCAAAGCGAAGUGUUAUAGUGAGGCCUUCGACGUUGACACUGUACCGAACACCAGUAAUGACUUUGACGAUCUGGUUACCGCUCUCCCGGAGCAUAACUCGGAACCAUCAUGUAGAACCUGUUAGUGCAUGUGCACUGAUGCAAGACAUACUUAGCUCCUGUAAAGACUACGACAGGAUAGCGCCUGAGGGGUCUCUGCUCGGUGCUUACCCAUAUUUGAAGGGGAGCCUGGGCAACGUACCAGCACACGAGAAAUACGUACCGCCGACCCGAUCGAGAAUUCAGUACUCUUACAGCGGCUCCCUUGGCCGGCGGGAGGUAGCGUUGAUGGAACCCUGCCAACAGGGUCUUAAAGACUACCUCGCGCGGUUCUACACGUACAGUACCGUGAUUUUAAAACGUACGCUAUGGGACGGGGAUUGUGACCCGCCGGCUUAUAGUGACUCGGUUUUAAUUGCAUUUGACAGGAUUAAUUUAACACGUGACCCCUUCGGACCCCCUCCUAUUGAUUACCCUGAGACAGAGCCGGGUGCCCUUCUUAUCAUGUAUAUGAGUAGGUACGAACGUGCACCCUGGGUAAGUGGGGGCUCGAAUACAACGGCACCGUUUGAGCAGGCCAUGCGUCUUAACAUAGACUCAAUCCACGAAGUAAGAUGCGUGUGCCACCGAAACUGUUGUUUCAGGAGUCGUAAUAAGGACCUCGCUUCAACCCGACUGACGGGCGUUCCCUUGCCAGACAACAUCCAGCGCAUAUAUCAUAAAGAGACGUCGGCUCCUCGGGAACUUGGUUGUAACGCAUCAUACCCGGGCCCGAGAGGACCGGUUCUCCUGUCCGAGAACUGCUCGGUGCUAUUACCGUGGAGCUCCCGCGGUGACCCACAGUGCGCAUUGAUGAGAGUGUGUGAGGUCGCACAUCCGGCUGGGACCGCCGUGCUUGGGCUAAGCGUCAGCAUGACCCAAUGUUAUUGUGCGUCAACGGGCGUUCUGAUAGCGUGGCAACGGGCGAUAGUGAUUGAGUGGAGUGAUUUUGCAAUUAACUCACGUGGGCGAUUGAUACGUGCUCAAAGCAUGAGCAUGUGGCAUCACGAAGGACGAGCGGCGUGUUUAGCAGUGCCCAUUCAGGUCUCCCGCGAUUUCGCCGAGUUGGCACGAAAGGCCACGAGGGAUAAGCAUUUCUUGUCGGGCUCGCCAAACUGUCGCUGGAUAAUAAGCGCACAAGCGACCCAGCUCCGACUGUUCUAUUCUAGCUUUGCGAGCCAGAUUCAUUACGCAAGAUCGCAUUCUACGCUGAAAGCGACAUGUCGUUACAUGAGGGACGACUCUGCAUUCACGUUCGUACCGCUGCGUAAACUGGUAAGCGAGGAGGUGUGGGGGUGGUCCGUCGCGCCACAGGUCUGCCGUCUCGGACCUUGUCUUCCGUGCUCUGUAUUAUUCCGUUGGUUUUUCUCGGCCUUGUGGGACACCGCUGGAGCUAUAAUCAUACCACCCGCACAAACCCUAAAGUCCCUUGUUUGUAAGGAGCGGACGUUGUACUAUCUUCUUUUUCAGAAGAGCCACGGCUGCUGCCCAUCAACGUUUCGUGCUAACGCCUUUCGCACCUAUACGACAGCCGGAACUUACAAAAUGUACGUGUACAGUGCCCUAAACAGAGAGAGAAAAGGCGCAAAACGAUACCAAUAUGAUUCGAUCCCUCGAUCGGAACGAUUAGCAAUUAGCGCGGUGGAAGAUGAGUUCCGUCCAAGAGACCUCGGGGGGCGUAUAAGAUGGCGCCGCUGUUUACGAACCGAAAAGUGGAUUCUGGGUGGGCAACGGGCUGCAUGGUAUCUUCAUGAAGGGGCGCGUCGUACCCUGCGCAGAUCCCUUACGGCGGGGAGGCCACUGCACGUUGGCAACUCGUGUGUUAUUGCCACGUCAAGUUUGCCUGGUCGGGACUCCGACCCUGAUCUUAGUUCUUUUCCUAAGCACAAUUCCGGACGAUACUUACUAUACAGUACGGUGUCGAACACCCAUGGUAAGUUGCUCAAGAAAAUAAUGCUAGCGCGCAAUGCAUGCAGGGACUCCACUCGAGCCCGGCAUUCUCGGAUGCGGUCCCCCCACUGUGCAUUUCCUCCGAAGCUGUUUCAUCCAUUCGAGCCCGGCUCAUUUGAAAGUUACGAUAAGCGUCAUCGUUCACGAGCAGUCCCCGUAUCCCCUUUCGCUAGCGUCGGAGAUCGUGCAGCCAUGGAGUGGUACCGCCACGUUGAUUCACGGCGCCUAAUGAUUAACUUGGGGCCGGGACGAAAAUCAACCGAAUUUAUGGGGCAGCAGGCACUACAACGCCUAUGUCCACAACAUGUGCUCGUCUCGAGCCUCACCCCGGAUCAAAAAAUGAAUCUCCUCCGGCCGUCCGCAACCGAGAGGCAGCAGAACGGUAAAUCGUCACAAAUACGCGUAAGAAGCUCUAGAGCGGCAGGGGCUAUGCAGGUUGCUUCCUCUCAAGAACUUCGGGACCGAGUCUUCAGAUUCGUUGCCCGUCGGGCGAUAAAACUCGCGGGUCGAGUAUUUCUGAUCGCUAGAAUGGUUGCUUGUGUUUUGAUUACGUCGCGCAUGGAUGCAUCGCUACCUCAUGGACGCAGAAAGGUAAAACGCGAUCGUGCAUCCGUUGUCUGUUCAAUACUCGUCUCGUUGGUACAUGACGAGGCAGCCAGCUUGAGUCCUGAUCCAGUUACACGAUGGCUGCUCGCCCCGCGUGAGAUGUGUCUGACACGGUACCAGCAGCAGUCCUUCGUGCUCGGGAUGGGUUUUCUCUGCCGGAUCCUGCGCCGAGGAUAUGCCUAUUGUUUUGAAGCAGGGGAACAAAGAACGGAUAUCUACUCCCAGGUUUCGUACGGCAUCGGACUACGAGACAGCCCGACUGAAGCUGUCUGGUCCAACACACCGGUUUUUCAUUGCGAUGUAGCAACUCUCACGACCGCGAGUGGCAUGGUCGUUUUCCCAUGGGUCGGCGUAUGUAGAAGCCAGCGCUGUCCCCGCAGCAGGGGAGUUUCAACCCGCGGCUGGCAACUCGAGUGGCCCAGCAAACAACCAGUCACAACUUGUCCCGCACGAAUGGAGGACUGCCCAACAAUUAGGGCUAAAAGCGUUGCUUUAUUCUUGGAAGAUUUAUCCGUGUGGUACCUGACGGGUUGGGAUAAGGUAUAUAAUACUCGCGUAGUUUCGGAACUGCCGUGGCGCUUGCGCAUCGUAGGUCUCUGCUCAAGAAGAAAAAAGGAGCUGGCUGCACUCUUUCAGAUGAAGCAGACACAGCGACUGCGAGGCUGUAUAAGCGAACGCAUAGAUGAGAUCCGCCAGAUUAAUGCUAACAAGCAAGUUUCAGGCUGUGUCAGGGAGACGAGGUCAGAGGUAACCAAUGCUAAGGCAGGCCAUGCGGGGCAUCAGCCUUGUGGCCCAGCCGAUCGGAAGGCUUUGCGAAGUUGCAAGGACUCUAGCGACUUUCAAUCCCACCCAAGAUAUGGGGAUUCAGUGCGAAAAAUAAUACUAGCAACUCCCCGUGGCUUUGGUGAAUACCAACACACAAGUGAGUUGAUUCAACACAUCCAACGUACACAGAUUAUCCCACCCAUAAGAUCAAAACUUUUGGAAAGUUCUGACAAAUUCAAAGUAAUUGGAGGAACCCUCUUGCACCCGUAUGGUGUUCGCAGGGGCCGAGUAGUGCACCUGCCCCGGUCGUUUCAUAGCGGGGAUAGGAAAGCCGAACGGUUUUACCCAACGUUCAUUGCGCAUGACGCGCGACGUGCUCCAAAGUUCUUCCCACGAAACCGCAUGUGCAUGCGUCAGAAUGAAAGUUACUGCGCUCCGCGUCCGAAAAGUCAAGUGAACGUUGCUAUGAGAAUCUCUCUAGGGUUUAAGGGCCGGCUUUACCGGCUUGCACUAACUUCCGUCCGUGAUACGCCAGACCCUAGGAUUGUCAAGACUCGGCAGAUCGUUCUUCCAGCUCAUAAUGUCACACCGAAAAGCACUUGCAGGAGGCUAGUCCGCCCCUGCCACUAUGACGGGAGUGUUGCACAUAGUAUAGUCUGUAUCUUACCCAGCGACAGGUUAAUAAGCAACUUACUAUCCUCCAUACGCGUCCCCCACACAAAAGGGUCGUGUUUAAAUCGAGCCUCACCGCGGUUAUUAAAGUCCAGGGCCUACGAAUUGCUUAUGGUUCCGAGCACUAAGGUGGAGCGGCGUAUGUACAGUAGCGAAGGUCGCAUGUCACGUUCAUCAUGGCUGAAUGAGAUAUCAAAACAGUCACAGCUUAAACAACGUGUUUUAAUUAAUAAUGCAUGUAUACCCGAUUCCGAAGGACAGUUCAGUACAAGCGUCAACACCAACGGGCACAAGCUAAGUCUUGAUGGCUUUCCACCGCGUUACAAGAGGAAUAGUUAUCGGCUACUGUGCUCCUGGUCGUUCCCUCACGCUGUGGGAGAAUAUACAAUCAACGCUCAGCACCUGUGUUCCACAGUCCGGGUACCGCGACGCAGAGGAGUUGUAGACAUCAAGCUGUGCCAGUACUGGUUGGACCUAAAGUGGGUGCCGCAGACGCUCGGUAUAUGCUGUCUGGCCCCAACCGGAAGUACGAGUGCAAAGACUCGUGUCCCAUUUCCGGACCGCACCCUGAUGGAAUAUGACGACAGACGCGUAUACCCCGAGAUUCUGCUCAUUGUUCAUUUUAUGUGUAGCUUUAGGCACGGUACGAUUACGUCAGAAAGUGAUUGGAAUAAAGUCUUGAACGCUGUGCGUACGGACCGCUCACUCUAUGGCCUGCCUGGUUGGGGUGGAACGGUCCCAAUGCAGGAGCUCUUACACCGGCGCUGGCUUAGGUCGCUUCUUUACUAUGGAAGCGCACCCACUCACACGAAGUUCGGUAAACCCUGGCCGGCUGUAAUUAAAUGCAGUGGUUCGGUACACACUGAAACAUUCGGCAUUAAUGAUGGACGAGAUUUAGCACCCUUCCGAAGACAGCGUAUACGCCUUAUGCAUAUAUCCCCAACUGCGACCGGACUCCUUACUAAGAAACUAGGCGAAACUAGUGAGAUUAUGGGAGAUGUCCAUGCGACCUACUAUGGGGCGCCACCGUUGAGUAGGUCCCGACUCCCACACUUACUUCGGAAAUAUUUAAGCUCAAGCGGACCCGGGAAGUCGAUUCCUGGACCAUGUAUUCGUGUUGCAGGUAGGGCAGGACCCCACCGAGCCGUCGUUGGAGUUGAAGUCCACUCUAAAGAGCAGGCCCAUUGUAUCUUAUUUGCGGGGUGUGUUGUUCGAAUCUCCGUACGCCCAGCUCUCCACGCUGGCAUCGAUGUACUUAAAAGUAGGCUCCUAACAGACUCGAGAAUUGUACUUACUCUAGCGUGCAUACGUCAACCCGCCUACUGCACCACGACGCCCCAUUGGACGAUAGGAAUGCAAUCGGCGAUACCAGUGUCGAGAUGUAAUGGGCACCGUUAUAACCCAAGGGAUCACAGGGAGCUGGGUAAAAGCUGA'\n"
      ],
      "metadata": {
        "id": "LYT9-u3aT4Ya"
      },
      "execution_count": null,
      "outputs": []
    },
    {
      "cell_type": "code",
      "source": [
        "protein = translate_codon(c,amino_acids,dict_keys)"
      ],
      "metadata": {
        "id": "nnJBWSmxT8N4"
      },
      "execution_count": null,
      "outputs": []
    },
    {
      "cell_type": "code",
      "source": [
        "protein"
      ],
      "metadata": {
        "colab": {
          "base_uri": "https://localhost:8080/",
          "height": 818
        },
        "id": "26hVc3wuVi6v",
        "outputId": "846691bc-f1df-420b-e4bd-772c254c0f40"
      },
      "execution_count": null,
      "outputs": [
        {
          "output_type": "execute_result",
          "data": {
            "text/plain": [
              "'MCYVHPPGGAYATRTAWNQRGNLNKQRPSWSILSDDTLLEISMQPISSRIITKSKLPHCYCASFSLGFRHSLSGRANSPSISIMYRPRNNWRLHIKVYIEDSERRVACRSTALNVLILPAYRSGRHIERCSRHQSYPEFRKLAGDILAIGCKLHCTLEHPFYVSVKSPTRIDRLKEGLQVSPRKCSNYHGLCDSALPEIMLGSQDVIISWSVTASYVGVHTNSPRNSPRSRFRLLSAPRAQNLRKEARLGRRRYDTYVQLGRRIRDGGSLFRGDLSLLLDFFSMARLVDILIKRIRSAICSRRSWEDFRSVISHLDVRFLYRWNAFALVYLIGINDAAFRGFLVILQTFEGRMVQVQGLPDAVSSFSSVIHYLTAYVTRGTIALAIQFANLRCSDPLRLKHKLLGRYLMSSWEQGAVLACLYPQASVEIFSKESTIRTRVHGSALAWYWIIMVVKGLGCLLCWRNALRILPLSSSPVNERLKRSPPSHEPLFRASSAYARRMRVVSTPRTIGRLRLCPHAVYVMCPGGTVASLCSVLGTLPLRLPDDLCDPTPPRDAIAPDLERNLSLPVLLNARSLRSGSGSGLTQVSYVFCKSGAQSAESFSGNTAGPYGRVFLKNVQKVCSLFLGGSRANRRRLPVRGGTQHETPRCHVAKPLTIQNWAGMVPLPPLRPFTKRTTPQEDIGILPCNPGSQRTRVEHICVVLASPQRMMNLAPPLLRILFSANPSAIINLVLTLLEFIITGHGVPIGGGHSHSRDQVALVMGTTGTSLASRNDSQSYPKISLSLLPSFPSPPSVPKARRERWHRFGLGMTNFLQVIRKEVKISSARTSGLFDALGRVRGPGKCSRRTSSRGTSCISTLAEDLLSFRRGKSYRLIRVSPTHNGPRDKRHVRLFSEGVSKGAARRLVHRGSRIKALKYSRETSKKKENSGVPSRLPSLVVDPNVIINFCGSRWSLSHHRYGCVGRSVQTDSRILVSGPYCVAWLIHTSQDPHRMAIGCTVRRTAQERGLIKWGHHSSIAHASDCYSIESASGINIVLSSIHGQEPLSAPALLFPLSPAVNHPTIPELLVRCRESPRFASMRLRRDFIALRWRPAHHARLNTQGHAVSRMARSALELTQAGPMVAIVIAERILECQLHGVFRQSRPARQRSGHVGREQSRVTTLSASYSLRLGRRCVLKVSIAILSRRAVVQGSVDVAFNCPRLYLMKGRIRFTPPSVFSPNLNVDILSKYRNALDLIPVAEGVTFRILGEFVLASNDGACGYPRQPRVKRICSFQTPFTLGMHFREGSPVGCPIATMLCSTGANPVISAAWDSIAGAPNFRSAVVQCFTRATDARKELDNEALAFGETSRKTNSEYSFLGYWVFRGEDCRVADPITVTWYAWHALGLTKVRMQVIHTYCRAIHYGPSDVVHVSLYPRLPVNCMALERLIGLYPRSMETVSVGNSYQRYIILTSWQVAAPLQWVLNLSRTRQSELQNVQFIFGAPLSVDARYGRDSKRSVIVRPSTLTLYRTPVMTLTIWLPLSRSITRNHHVEPVSACALMQDILSSCKDYDRIAPEGSLLGAYPYLKGSLGNVPAHEKYVPPTRSRIQYSYSGSLGRREVALMEPCQQGLKDYLARFYTYSTVILKRTLWDGDCDPPAYSDSVLIAFDRINLTRDPFGPPPIDYPETEPGALLIMYMSRYERAPWVSGGSNTTAPFEQAMRLNIDSIHEVRCVCHRNCCFRSRNKDLASTRLTGVPLPDNIQRIYHKETSAPRELGCNASYPGPRGPVLLSENCSVLLPWSSRGDPQCALMRVCEVAHPAGTAVLGLSVSMTQCYCASTGVLIAWQRAIVIEWSDFAINSRGRLIRAQSMSMWHHEGRAACLAVPIQVSRDFAELARKATRDKHFLSGSPNCRWIISAQATQLRLFYSSFASQIHYARSHSTLKATCRYMRDDSAFTFVPLRKLVSEEVWGWSVAPQVCRLGPCLPCSVLFRWFFSALWDTAGAIIIPPAQTLKSLVCKERTLYYLLFQKSHGCCPSTFRANAFRTYTTAGTYKMYVYSALNRERKGAKRYQYDSIPRSERLAISAVEDEFRPRDLGGRIRWRRCLRTEKWILGGQRAAWYLHEGARRTLRRSLTAGRPLHVGNSCVIATSSLPGRDSDPDLSSFPKHNSGRYLLYSTVSNTHGKLLKKIMLARNACRDSTRARHSRMRSPHCAFPPKLFHPFEPGSFESYDKRHRSRAVPVSPFASVGDRAAMEWYRHVDSRRLMINLGPGRKSTEFMGQQALQRLCPQHVLVSSLTPDQKMNLLRPSATERQQNGKSSQIRVRSSRAAGAMQVASSQELRDRVFRFVARRAIKLAGRVFLIARMVACVLITSRMDASLPHGRRKVKRDRASVVCSILVSLVHDEAASLSPDPVTRWLLAPREMCLTRYQQQSFVLGMGFLCRILRRGYAYCFEAGEQRTDIYSQVSYGIGLRDSPTEAVWSNTPVFHCDVATLTTASGMVVFPWVGVCRSQRCPRSRGVSTRGWQLEWPSKQPVTTCPARMEDCPTIRAKSVALFLEDLSVWYLTGWDKVYNTRVVSELPWRLRIVGLCSRRKKELAALFQMKQTQRLRGCISERIDEIRQINANKQVSGCVRETRSEVTNAKAGHAGHQPCGPADRKALRSCKDSSDFQSHPRYGDSVRKIILATPRGFGEYQHTSELIQHIQRTQIIPPIRSKLLESSDKFKVIGGTLLHPYGVRRGRVVHLPRSFHSGDRKAERFYPTFIAHDARRAPKFFPRNRMCMRQNESYCAPRPKSQVNVAMRISLGFKGRLYRLALTSVRDTPDPRIVKTRQIVLPAHNVTPKSTCRRLVRPCHYDGSVAHSIVCILPSDRLISNLLSSIRVPHTKGSCLNRASPRLLKSRAYELLMVPSTKVERRMYSSEGRMSRSSWLNEISKQSQLKQRVLINNACIPDSEGQFSTSVNTNGHKLSLDGFPPRYKRNSYRLLCSWSFPHAVGEYTINAQHLCSTVRVPRRRGVVDIKLCQYWLDLKWVPQTLGICCLAPTGSTSAKTRVPFPDRTLMEYDDRRVYPEILLIVHFMCSFRHGTITSESDWNKVLNAVRTDRSLYGLPGWGGTVPMQELLHRRWLRSLLYYGSAPTHTKFGKPWPAVIKCSGSVHTETFGINDGRDLAPFRRQRIRLMHISPTATGLLTKKLGETSEIMGDVHATYYGAPPLSRSRLPHLLRKYLSSSGPGKSIPGPCIRVAGRAGPHRAVVGVEVHSKEQAHCILFAGCVVRISVRPALHAGIDVLKSRLLTDSRIVLTLACIRQPAYCTTTPHWTIGMQSAIPVSRCNGHRYNPRDHRELGKS'"
            ],
            "application/vnd.google.colaboratory.intrinsic+json": {
              "type": "string"
            }
          },
          "metadata": {},
          "execution_count": 27
        }
      ]
    },
    {
      "cell_type": "code",
      "source": [
        "data = open('/content/rosalind_hamm(2).txt','r').readlines()"
      ],
      "metadata": {
        "id": "lyw6KzQBVr3i"
      },
      "execution_count": null,
      "outputs": []
    },
    {
      "cell_type": "markdown",
      "source": [
        "### 9. Given two DNA strings and t return all locations as substring of s "
      ],
      "metadata": {
        "id": "MyaI9WuAFi6E"
      }
    },
    {
      "cell_type": "markdown",
      "source": [
        "### 10. Given a collection of at most 10 DNA strings of equal length in FASTA format return a consensus string and profile matrix for the collection. (If several possible consensus strings exist, then you may return any one of them.)"
      ],
      "metadata": {
        "id": "g3bDG9AfIOmq"
      }
    },
    {
      "cell_type": "code",
      "source": [
        "import numpy as np"
      ],
      "metadata": {
        "id": "gs74TQ8aGVEj"
      },
      "execution_count": null,
      "outputs": []
    },
    {
      "cell_type": "code",
      "source": [
        "import numpy as np\n",
        "def calculate_profile(dataset):\n",
        "    dataset = dataset\n",
        "    dna_strings = np.empty([len(dataset),len(dataset[1])],dtype=str)\n",
        "    for i in range(dna_strings.shape[0]):\n",
        "        dataset[i] = dataset[i].rstrip('\\n')\n",
        "        for j in range(dna_strings.shape[1]):\n",
        "            dna_strings[i,j] = dataset[i][j]\n",
        "    profile = np.empty([4,len(dataset[1])+1],dtype='U2')\n",
        "    profile[0,0] = 'A:'\n",
        "    profile[1,0] = 'C:'\n",
        "    profile[2,0] = 'G:'\n",
        "    profile[3,0] = 'T:'\n",
        "\n",
        "    for i in range(len(dataset[1])): \n",
        "        for j in range(4):\n",
        "            profile[j,i+1] = str(sum(np.char.count(dna_strings[:,i],profile[j,0][0])))\n",
        "            #print(str(sum(np.char.count(dna_strings[:,i],profile[j,0][0]))))\n",
        "    consensus_string = ''\n",
        "    for i in range(len(dataset[1])):\n",
        "        consensus_string += str(profile[np.where(profile[:,i+1]== max(profile[:,i+1])),0][0,0][0])\n",
        "    #profile_matrix = np.matrix(profile)\n",
        "    profile_list = profile.tolist()\n",
        "    print(len(consensus_string))\n",
        "    for i in range(len(profile_list)):\n",
        "        print(len((' '.join(profile_list[i][:]))))\n",
        "# join all into strng"
      ],
      "metadata": {
        "id": "ISiOj0OVD1J-"
      },
      "execution_count": null,
      "outputs": []
    },
    {
      "cell_type": "markdown",
      "source": [],
      "metadata": {
        "id": "9hHP7AcCwGW3"
      }
    },
    {
      "cell_type": "code",
      "source": [
        "dataset = np.array(['>Rosalind_1','ATCCAGCT','>Rosalind_2','GGGCAACT','>Rosalind_3','ATGGATCT','>Rosalind_4','AAGCAACC'])"
      ],
      "metadata": {
        "id": "Oq40h2-qFt7p"
      },
      "execution_count": null,
      "outputs": []
    },
    {
      "cell_type": "code",
      "source": [],
      "metadata": {
        "id": "lTWCuOgQjUYc"
      },
      "execution_count": null,
      "outputs": []
    }
  ]
}